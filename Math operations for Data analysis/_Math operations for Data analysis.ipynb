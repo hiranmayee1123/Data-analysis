{
 "cells": [
  {
   "cell_type": "code",
   "execution_count": 2,
   "metadata": {},
   "outputs": [
    {
     "name": "stdout",
     "output_type": "stream",
     "text": [
      "3012\n",
      "1006942.0\n",
      "334.31009296148744\n",
      "334.3100929614874\n",
      "173.18720477113106\n",
      "49.95\n",
      "782.22\n",
      "283.315\n",
      "0    291.21\n",
      "dtype: float64\n"
     ]
    }
   ],
   "source": [
    "# import pandas for reading csv file\n",
    "import pandas as pd\n",
    "  \n",
    "#reading csv file\n",
    "s = pd.read_csv(r\"C:\\Users\\Mini\\Downloads\\stock.csv\", squeeze = True)\n",
    "  \n",
    "#using count function\n",
    "print(s.count())\n",
    "  \n",
    "#using sum function\n",
    "print(s.sum())\n",
    "  \n",
    "#using mean function\n",
    "print(s.mean())\n",
    "  \n",
    "#calculatin average\n",
    "print(s.sum()/s.count())\n",
    "  \n",
    "#using std function\n",
    "print(s.std())\n",
    "  \n",
    "#using min function\n",
    "print(s.min())\n",
    "  \n",
    "#using max function\n",
    "print(s.max())\n",
    "  \n",
    "#using count function\n",
    "print(s.median())\n",
    "  \n",
    "#using mode function\n",
    "print(s.mode())"
   ]
  },
  {
   "cell_type": "code",
   "execution_count": 4,
   "metadata": {},
   "outputs": [
    {
     "name": "stdout",
     "output_type": "stream",
     "text": [
      "count    3012.000000\n",
      "mean      334.310093\n",
      "std       173.187205\n",
      "min        49.950000\n",
      "25%       218.045000\n",
      "50%       283.315000\n",
      "75%       443.000000\n",
      "max       782.220000\n",
      "Name: Stock Price, dtype: float64\n",
      "3011\n",
      "11\n",
      "291.21    5\n",
      "288.47    3\n",
      "194.80    3\n",
      "Name: Stock Price, dtype: int64\n"
     ]
    }
   ],
   "source": [
    "# import pandas for reading csv file\n",
    "import pandas as pd\n",
    "  \n",
    "#reading csv file\n",
    "s = pd.read_csv(r\"C:\\Users\\Mini\\Downloads\\stock.csv\", squeeze = True)\n",
    "  \n",
    "#using describe function\n",
    "print(s.describe())\n",
    "  \n",
    "#using count function\n",
    "print(s.idxmax())\n",
    "  \n",
    "#using idxmin function\n",
    "print(s.idxmin())\n",
    "  \n",
    "#count of elements having value 3\n",
    "print(s.value_counts().head(3))"
   ]
  },
  {
   "cell_type": "code",
   "execution_count": null,
   "metadata": {},
   "outputs": [],
   "source": []
  }
 ],
 "metadata": {
  "kernelspec": {
   "display_name": "Python 3",
   "language": "python",
   "name": "python3"
  },
  "language_info": {
   "codemirror_mode": {
    "name": "ipython",
    "version": 3
   },
   "file_extension": ".py",
   "mimetype": "text/x-python",
   "name": "python",
   "nbconvert_exporter": "python",
   "pygments_lexer": "ipython3",
   "version": "3.8.5"
  }
 },
 "nbformat": 4,
 "nbformat_minor": 4
}
